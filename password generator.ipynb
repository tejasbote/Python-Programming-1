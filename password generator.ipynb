{
 "cells": [
  {
   "cell_type": "code",
   "execution_count": null,
   "id": "e38cd4c0-e5d3-47e3-b187-766bb157a28a",
   "metadata": {},
   "outputs": [
    {
     "name": "stdout",
     "output_type": "stream",
     "text": [
      "Welcome to the Password Generator!!!\n"
     ]
    },
    {
     "name": "stdin",
     "output_type": "stream",
     "text": [
      "Enter the desired password length:  8\n",
      "Include lowercase letters? (y/n):  y\n",
      "Include uppercase letters? (y/n):  y\n",
      "Include digits? (y/n):  y\n",
      "Include special characters? (y/n):  y\n"
     ]
    },
    {
     "name": "stdout",
     "output_type": "stream",
     "text": [
      "\n",
      "Generated Password: r51Ix-{*\n",
      "\n"
     ]
    }
   ],
   "source": [
    "import random\n",
    "import string\n",
    "\n",
    "def generate_password(length, use_lowercase, use_uppercase, use_digits, use_special):\n",
    "    # Define character sets\n",
    "    lowercase_letters = string.ascii_lowercase\n",
    "    uppercase_letters = string.ascii_uppercase\n",
    "    digits = string.digits\n",
    "    special_characters = string.punctuation\n",
    "\n",
    "    # Combine selected character sets\n",
    "    all_characters = ''\n",
    "    if use_lowercase:\n",
    "        all_characters += lowercase_letters\n",
    "    if use_uppercase:\n",
    "        all_characters += uppercase_letters\n",
    "    if use_digits:\n",
    "        all_characters += digits\n",
    "    if use_special:\n",
    "        all_characters += special_characters\n",
    "\n",
    "    # Check if at least one character set is selected\n",
    "    if not all_characters:\n",
    "        return \"Error: Please select at least one character type.\"\n",
    "\n",
    "    # Generate password\n",
    "    password = ''.join(random.choice(all_characters) for _ in range(length))\n",
    "    return password\n",
    "\n",
    "def main():\n",
    "    print(\"Welcome to the Password Generator!!!\")\n",
    "\n",
    "    while True:\n",
    "        try:\n",
    "            # Get password length\n",
    "            length = int(input(\"Enter the desired password length: \"))\n",
    "            if length <= 0:\n",
    "                raise ValueError(\"Password length must be a positive integer.\")\n",
    "\n",
    "            # Get character type preferences\n",
    "            use_lowercase = input(\"Include lowercase letters? (y/n): \").lower() == 'y'\n",
    "            use_uppercase = input(\"Include uppercase letters? (y/n): \").lower() == 'y'\n",
    "            use_digits = input(\"Include digits? (y/n): \").lower() == 'y'\n",
    "            use_special = input(\"Include special characters? (y/n): \").lower() == 'y'\n",
    "\n",
    "            # Generate and display password\n",
    "            password = generate_password(length, use_lowercase, use_uppercase, use_digits, use_special)\n",
    "            print(f\"\\nGenerated Password: {password}\\n\")\n",
    "\n",
    "            # Ask if user wants to generate another password\n",
    "            if input(\"Generate another password? (y/n): \").lower() != 'y':\n",
    "                break\n",
    "\n",
    "        except ValueError as e:\n",
    "            print(f\"Error: {e}\")\n",
    "\n",
    "    print(\"Hope that helps,Thank you for using the Password Generator!!!\")\n",
    "\n",
    "if __name__ == \"__main__\":\n",
    "    main()"
   ]
  },
  {
   "cell_type": "code",
   "execution_count": null,
   "id": "c4bb1199-da05-473d-8a4e-d4672a4abc79",
   "metadata": {},
   "outputs": [],
   "source": []
  }
 ],
 "metadata": {
  "kernelspec": {
   "display_name": "Python 3 (ipykernel)",
   "language": "python",
   "name": "python3"
  },
  "language_info": {
   "codemirror_mode": {
    "name": "ipython",
    "version": 3
   },
   "file_extension": ".py",
   "mimetype": "text/x-python",
   "name": "python",
   "nbconvert_exporter": "python",
   "pygments_lexer": "ipython3",
   "version": "3.11.7"
  }
 },
 "nbformat": 4,
 "nbformat_minor": 5
}
